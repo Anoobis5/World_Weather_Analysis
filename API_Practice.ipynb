{
 "cells": [
  {
   "cell_type": "code",
   "execution_count": 50,
   "id": "38aedb88",
   "metadata": {},
   "outputs": [
    {
     "data": {
      "text/plain": [
       "'2.25.1'"
      ]
     },
     "execution_count": 50,
     "metadata": {},
     "output_type": "execute_result"
    }
   ],
   "source": [
    "import requests\n",
    "requests.__version__"
   ]
  },
  {
   "cell_type": "code",
   "execution_count": 51,
   "id": "aab1c324",
   "metadata": {},
   "outputs": [],
   "source": [
    "# Create a practice set of random latitude and longitude combinations.\n",
    "x = [25.12903645, 25.92017388, 26.62509167, -59.98969384, 37.30571269]\n",
    "y = [-67.59741259, 11.09532135, 74.84233102, -76.89176677, -61.13376282]\n",
    "coordinates = zip(x, y)"
   ]
  },
  {
   "cell_type": "code",
   "execution_count": 52,
   "id": "aac7395a",
   "metadata": {},
   "outputs": [
    {
     "name": "stdout",
     "output_type": "stream",
     "text": [
      "25.12903645 -67.59741259\n",
      "25.92017388 11.09532135\n",
      "26.62509167 74.84233102\n",
      "-59.98969384 -76.89176677\n",
      "37.30571269 -61.13376282\n"
     ]
    }
   ],
   "source": [
    "# Use the tuple() function to display the latitude and longitude combinations.\n",
    "for coordinate in coordinates:\n",
    "    print(coordinate[0], coordinate[1])"
   ]
  },
  {
   "cell_type": "code",
   "execution_count": 56,
   "id": "013b16a0",
   "metadata": {},
   "outputs": [],
   "source": [
    "# Import the requests library.\n",
    "import requests\n",
    "\n",
    "# Import the API key.\n",
    "from config import weather_api_key"
   ]
  },
  {
   "cell_type": "code",
   "execution_count": 57,
   "id": "150d2e87",
   "metadata": {
    "scrolled": true
   },
   "outputs": [],
   "source": [
    "# Starting URL for Weather Map API Call.\n",
    "url = \"http://api.openweathermap.org/data/2.5/weather?units=Imperial&APPID=\" + weather_api_key\n",
    "#print(url)"
   ]
  },
  {
   "cell_type": "code",
   "execution_count": 58,
   "id": "e275e5f6",
   "metadata": {
    "scrolled": true
   },
   "outputs": [
    {
     "name": "stdout",
     "output_type": "stream",
     "text": [
      "http://api.openweathermap.org/data/2.5/weather?units=Imperial&APPID=904e2e66b6a1828842ba6de543f5060e&q=Boston\n"
     ]
    }
   ],
   "source": [
    "# Create an endpoint URL for a city.\n",
    "city_url = url + \"&q=\" + \"Boston\"\n",
    "print(city_url)"
   ]
  },
  {
   "cell_type": "code",
   "execution_count": 59,
   "id": "e09eaae0",
   "metadata": {},
   "outputs": [
    {
     "data": {
      "text/plain": [
       "200"
      ]
     },
     "execution_count": 59,
     "metadata": {},
     "output_type": "execute_result"
    }
   ],
   "source": [
    "# Make a 'Get' request for the city weather.\n",
    "city_weather = requests.get(city_url)\n",
    "city_weather\n",
    "city_weather.status_code"
   ]
  },
  {
   "cell_type": "code",
   "execution_count": null,
   "id": "fffdc315",
   "metadata": {},
   "outputs": [],
   "source": [
    "# Create an endpoint URL for a city.\n",
    "city_url = url + \"&q=\" + \"Bston\"\n",
    "city_weather = requests.get(city_url)\n",
    "city_weather"
   ]
  },
  {
   "cell_type": "code",
   "execution_count": null,
   "id": "e1921e4f",
   "metadata": {},
   "outputs": [],
   "source": [
    "# Create an endpoint URL for a city.\n",
    "city_url = url + \"&q=\" + \"Boston\"\n",
    "city_weather = requests.get(city_url)\n",
    "city_weather"
   ]
  },
  {
   "cell_type": "code",
   "execution_count": 69,
   "id": "47c0e129",
   "metadata": {},
   "outputs": [
    {
     "data": {
      "text/plain": [
       "'{\"coord\":{\"lon\":-71.0598,\"lat\":42.3584},\"weather\":[{\"id\":300,\"main\":\"Drizzle\",\"description\":\"light intensity drizzle\",\"icon\":\"09n\"},{\"id\":701,\"main\":\"Mist\",\"description\":\"mist\",\"icon\":\"50n\"}],\"base\":\"stations\",\"main\":{\"temp\":65.17,\"feels_like\":65.8,\"temp_min\":63.07,\"temp_max\":67.48,\"pressure\":1025,\"humidity\":94},\"visibility\":2414,\"wind\":{\"speed\":1.99,\"deg\":42,\"gust\":10},\"clouds\":{\"all\":90},\"dt\":1626223936,\"sys\":{\"type\":2,\"id\":2013408,\"country\":\"US\",\"sunrise\":1626167951,\"sunset\":1626222026},\"timezone\":-14400,\"id\":4930956,\"name\":\"Boston\",\"cod\":200}'"
      ]
     },
     "execution_count": 69,
     "metadata": {},
     "output_type": "execute_result"
    }
   ],
   "source": [
    "# Get the text of the 'Get' request.\n",
    "city_weather.text"
   ]
  },
  {
   "cell_type": "code",
   "execution_count": 70,
   "id": "e21ceb74",
   "metadata": {},
   "outputs": [
    {
     "data": {
      "text/plain": [
       "{'coord': {'lon': -71.0598, 'lat': 42.3584},\n",
       " 'weather': [{'id': 300,\n",
       "   'main': 'Drizzle',\n",
       "   'description': 'light intensity drizzle',\n",
       "   'icon': '09n'},\n",
       "  {'id': 701, 'main': 'Mist', 'description': 'mist', 'icon': '50n'}],\n",
       " 'base': 'stations',\n",
       " 'main': {'temp': 65.17,\n",
       "  'feels_like': 65.8,\n",
       "  'temp_min': 63.07,\n",
       "  'temp_max': 67.48,\n",
       "  'pressure': 1025,\n",
       "  'humidity': 94},\n",
       " 'visibility': 2414,\n",
       " 'wind': {'speed': 1.99, 'deg': 42, 'gust': 10},\n",
       " 'clouds': {'all': 90},\n",
       " 'dt': 1626223936,\n",
       " 'sys': {'type': 2,\n",
       "  'id': 2013408,\n",
       "  'country': 'US',\n",
       "  'sunrise': 1626167951,\n",
       "  'sunset': 1626222026},\n",
       " 'timezone': -14400,\n",
       " 'id': 4930956,\n",
       " 'name': 'Boston',\n",
       " 'cod': 200}"
      ]
     },
     "execution_count": 70,
     "metadata": {},
     "output_type": "execute_result"
    }
   ],
   "source": [
    "# Get the JSON text of the 'Get' request.\n",
    "city_weather.json()"
   ]
  },
  {
   "cell_type": "code",
   "execution_count": 71,
   "id": "2b865582",
   "metadata": {},
   "outputs": [
    {
     "name": "stdout",
     "output_type": "stream",
     "text": [
      "City Weather found.\n"
     ]
    }
   ],
   "source": [
    "# Create an endpoint URL for a city.\n",
    "city_url = url + \"&q=\" + \"Boston\"\n",
    "city_weather = requests.get(city_url)\n",
    "if city_weather.status_code == 200:\n",
    "    print(f\"City Weather found.\")\n",
    "else:\n",
    "    print(f\"City weather not found.\")"
   ]
  },
  {
   "cell_type": "code",
   "execution_count": 72,
   "id": "537487f2",
   "metadata": {},
   "outputs": [
    {
     "name": "stdout",
     "output_type": "stream",
     "text": [
      "City Weather found.\n"
     ]
    }
   ],
   "source": [
    "# Create an endpoint URL for a city.\n",
    "city_url = url + \"&q=\" + \"Bston\"\n",
    "city_weather = requests.get(city_url)\n",
    "if city_weather.json():\n",
    "    print(f\"City Weather found.\")\n",
    "else:\n",
    "    print(f\"City weather not found.\")"
   ]
  },
  {
   "cell_type": "code",
   "execution_count": 73,
   "id": "14279c39",
   "metadata": {
    "scrolled": true
   },
   "outputs": [
    {
     "data": {
      "text/plain": [
       "{'coord': {'lon': -71.0598, 'lat': 42.3584},\n",
       " 'weather': [{'id': 300,\n",
       "   'main': 'Drizzle',\n",
       "   'description': 'light intensity drizzle',\n",
       "   'icon': '09n'},\n",
       "  {'id': 701, 'main': 'Mist', 'description': 'mist', 'icon': '50n'}],\n",
       " 'base': 'stations',\n",
       " 'main': {'temp': 65.17,\n",
       "  'feels_like': 65.8,\n",
       "  'temp_min': 63.07,\n",
       "  'temp_max': 67.48,\n",
       "  'pressure': 1025,\n",
       "  'humidity': 94},\n",
       " 'visibility': 2414,\n",
       " 'wind': {'speed': 1.99, 'deg': 42, 'gust': 10},\n",
       " 'clouds': {'all': 90},\n",
       " 'dt': 1626223936,\n",
       " 'sys': {'type': 2,\n",
       "  'id': 2013408,\n",
       "  'country': 'US',\n",
       "  'sunrise': 1626167951,\n",
       "  'sunset': 1626222026},\n",
       " 'timezone': -14400,\n",
       " 'id': 4930956,\n",
       " 'name': 'Boston',\n",
       " 'cod': 200}"
      ]
     },
     "execution_count": 73,
     "metadata": {},
     "output_type": "execute_result"
    }
   ],
   "source": [
    "# Create an endpoint URL for a city.\n",
    "city_url = url + \"&q=\" + \"Boston\"\n",
    "city_weather = requests.get(city_url)\n",
    "city_weather.json()"
   ]
  },
  {
   "cell_type": "code",
   "execution_count": 74,
   "id": "07d2541a",
   "metadata": {},
   "outputs": [
    {
     "data": {
      "text/plain": [
       "'US'"
      ]
     },
     "execution_count": 74,
     "metadata": {},
     "output_type": "execute_result"
    }
   ],
   "source": [
    "# Get the JSON data.\n",
    "boston_data = city_weather.json()\n",
    "boston_data['sys']['country']"
   ]
  },
  {
   "cell_type": "code",
   "execution_count": 75,
   "id": "bf86d24e",
   "metadata": {},
   "outputs": [
    {
     "name": "stdout",
     "output_type": "stream",
     "text": [
      "42.3584 -71.0598 67.48 94 90 1.99\n"
     ]
    }
   ],
   "source": [
    "lat = boston_data[\"coord\"][\"lat\"]\n",
    "lng = boston_data[\"coord\"][\"lon\"]\n",
    "max_temp = boston_data[\"main\"][\"temp_max\"]\n",
    "humidity = boston_data[\"main\"][\"humidity\"]\n",
    "clouds = boston_data[\"clouds\"][\"all\"]\n",
    "wind = boston_data[\"wind\"][\"speed\"]\n",
    "print(lat, lng, max_temp, humidity, clouds, wind)"
   ]
  },
  {
   "cell_type": "code",
   "execution_count": 76,
   "id": "2f69d5de",
   "metadata": {},
   "outputs": [
    {
     "data": {
      "text/plain": [
       "'2021-07-14 00:52:16'"
      ]
     },
     "execution_count": 76,
     "metadata": {},
     "output_type": "execute_result"
    }
   ],
   "source": [
    "# Import the datetime module from the datetime library.\n",
    "from datetime import datetime\n",
    "# Get the date from the JSON file.\n",
    "date = boston_data[\"dt\"]\n",
    "# Convert the UTC date to a date format with year, month, day, hours, minutes, and seconds.\n",
    "datetime.utcfromtimestamp(date).strftime('%Y-%m-%d %H:%M:%S')"
   ]
  },
  {
   "cell_type": "code",
   "execution_count": null,
   "id": "afd97a7c",
   "metadata": {},
   "outputs": [],
   "source": []
  },
  {
   "cell_type": "code",
   "execution_count": null,
   "id": "9be79160",
   "metadata": {},
   "outputs": [],
   "source": []
  },
  {
   "cell_type": "code",
   "execution_count": null,
   "id": "aec82d2d",
   "metadata": {},
   "outputs": [],
   "source": []
  },
  {
   "cell_type": "code",
   "execution_count": 77,
   "id": "853daf1f",
   "metadata": {},
   "outputs": [],
   "source": [
    "# Import the dependencies.\n",
    "import pandas as pd\n",
    "import matplotlib.pyplot as plt\n",
    "import numpy as np\n",
    "from citipy import citipy"
   ]
  },
  {
   "cell_type": "code",
   "execution_count": 78,
   "id": "0eeaa32a",
   "metadata": {},
   "outputs": [
    {
     "data": {
      "text/plain": [
       "<zip at 0x29cd8a13708>"
      ]
     },
     "execution_count": 78,
     "metadata": {},
     "output_type": "execute_result"
    }
   ],
   "source": [
    "# Create a set of random latitude and longitude combinations.\n",
    "lats = np.random.uniform(low=-90.000, high=90.000, size=1500)\n",
    "lngs = np.random.uniform(low=-180.000, high=180.000, size=1500)\n",
    "lat_lngs = zip(lats, lngs)\n",
    "lat_lngs"
   ]
  },
  {
   "cell_type": "code",
   "execution_count": 79,
   "id": "5e89d521",
   "metadata": {},
   "outputs": [],
   "source": [
    "# Add the latitudes and longitudes to a list.\n",
    "coordinates = list(lat_lngs)"
   ]
  },
  {
   "cell_type": "code",
   "execution_count": null,
   "id": "d88c5124",
   "metadata": {},
   "outputs": [
    {
     "name": "stdout",
     "output_type": "stream",
     "text": [
      "oranzherei ru\n",
      "ushuaia ar\n",
      "bambous virieux mu\n",
      "new norfolk au\n",
      "saint george bm\n",
      "arman ru\n",
      "albany au\n",
      "lorengau pg\n",
      "faya td\n",
      "dingle ie\n",
      "albany au\n",
      "athabasca ca\n",
      "kapaa us\n",
      "coihaique cl\n",
      "cape town za\n",
      "mar del plata ar\n",
      "ushuaia ar\n",
      "saleaula ws\n",
      "caiaponia br\n",
      "kanbe mm\n",
      "constitucion mx\n",
      "taolanaro mg\n",
      "chagda ru\n",
      "kodiak us\n",
      "new norfolk au\n",
      "hirara jp\n",
      "nikolskoye ru\n",
      "balkanabat tm\n",
      "mataura pf\n",
      "saskylakh ru\n",
      "nguiu au\n",
      "hermanus za\n",
      "hasaki jp\n",
      "sitka us\n",
      "kirakira sb\n",
      "nikolskoye ru\n",
      "ushuaia ar\n",
      "bluff nz\n",
      "ratnagiri in\n",
      "turukhansk ru\n",
      "margate za\n",
      "umzimvubu za\n",
      "bambous virieux mu\n",
      "rikitea pf\n",
      "grindavik is\n",
      "vaini to\n",
      "carnarvon au\n",
      "yenagoa ng\n",
      "mabaruma gy\n",
      "arraial do cabo br\n",
      "jamestown sh\n",
      "christchurch nz\n",
      "ola ru\n",
      "georgetown sh\n",
      "busselton au\n",
      "tumannyy ru\n",
      "amderma ru\n",
      "mount gambier au\n",
      "yellowknife ca\n",
      "butaritari ki\n",
      "benjamin constant br\n",
      "punta arenas cl\n",
      "birao cf\n",
      "chokurdakh ru\n",
      "yellowknife ca\n",
      "ixtapa mx\n",
      "khani ru\n",
      "tuatapere nz\n",
      "qaanaaq gl\n",
      "kruisfontein za\n",
      "san patricio mx\n",
      "avarua ck\n",
      "qaanaaq gl\n",
      "xingyi cn\n",
      "namibe ao\n",
      "hobart au\n",
      "vaini to\n",
      "chaa-khol ru\n",
      "thompson ca\n",
      "punta arenas cl\n",
      "saleaula ws\n",
      "fasa ir\n",
      "port alfred za\n",
      "hilo us\n",
      "busselton au\n",
      "manokwari id\n",
      "provideniya ru\n",
      "ust-kuyga ru\n",
      "iqaluit ca\n",
      "albany au\n",
      "butaritari ki\n",
      "rikitea pf\n",
      "cherskiy ru\n",
      "pangai to\n",
      "georgetown sh\n",
      "cambyreta py\n",
      "kapaa us\n",
      "oudtshoorn za\n",
      "horsham au\n",
      "airai pw\n",
      "erzin ru\n",
      "saleaula ws\n",
      "new norfolk au\n",
      "jamestown sh\n",
      "ponorogo id\n",
      "puerto ayora ec\n",
      "thompson ca\n",
      "port elizabeth za\n",
      "camacha pt\n",
      "amapa br\n",
      "hilo us\n",
      "rikitea pf\n",
      "aktau kz\n",
      "busselton au\n",
      "utiroa ki\n",
      "panzhihua cn\n",
      "vaini to\n",
      "vage no\n",
      "mataura pf\n",
      "rehoboth na\n",
      "punta arenas cl\n",
      "castro cl\n",
      "ushuaia ar\n",
      "busselton au\n",
      "norman wells ca\n",
      "cape town za\n",
      "sambava mg\n",
      "tsihombe mg\n",
      "port alfred za\n",
      "haines junction ca\n",
      "santo antonio do sudoeste br\n",
      "nouakchott mr\n",
      "mataura pf\n",
      "yellowknife ca\n",
      "butaritari ki\n",
      "puerto ayora ec\n",
      "vila velha br\n",
      "rikitea pf\n",
      "chernyshevskiy ru\n",
      "avarua ck\n",
      "key largo us\n",
      "longyearbyen sj\n",
      "hobart au\n",
      "jamestown sh\n",
      "illoqqortoormiut gl\n",
      "jamestown sh\n",
      "ushuaia ar\n",
      "palabuhanratu id\n",
      "belushya guba ru\n",
      "khatanga ru\n",
      "victoria sc\n",
      "rikitea pf\n",
      "alenquer br\n",
      "thompson ca\n",
      "grindavik is\n",
      "bethel us\n",
      "kapaa us\n",
      "rikitea pf\n",
      "sai buri th\n",
      "along in\n",
      "forestville ca\n",
      "nanortalik gl\n",
      "kudahuvadhoo mv\n",
      "ribeira grande pt\n",
      "loum cm\n",
      "puerto ayora ec\n",
      "barrow us\n",
      "beringovskiy ru\n",
      "tasiilaq gl\n",
      "alexandria eg\n",
      "new norfolk au\n",
      "belushya guba ru\n",
      "port elizabeth za\n",
      "saint george bm\n",
      "waipawa nz\n",
      "cabo san lucas mx\n",
      "ushuaia ar\n",
      "grand centre ca\n",
      "illoqqortoormiut gl\n",
      "loralai pk\n",
      "cape town za\n",
      "dikson ru\n",
      "puerto guzman co\n",
      "ilulissat gl\n",
      "radenci si\n",
      "verkhnevilyuysk ru\n",
      "butembo cd\n",
      "krasnoborsk ru\n",
      "mount isa au\n",
      "palabuhanratu id\n",
      "atasu kz\n",
      "pisco pe\n",
      "ilulissat gl\n",
      "aripuana br\n",
      "new norfolk au\n",
      "ushuaia ar\n",
      "fort nelson ca\n",
      "vaini to\n",
      "bredasdorp za\n",
      "victoria sc\n",
      "bredasdorp za\n",
      "khonuu ru\n",
      "goderich sl\n",
      "yellowknife ca\n",
      "puerto penasco mx\n",
      "ribeira grande pt\n",
      "east london za\n",
      "mount gambier au\n",
      "belushya guba ru\n",
      "sile tr\n",
      "albany au\n",
      "sentyabrskiy ru\n",
      "mataura pf\n",
      "kaitangata nz\n",
      "rungata ki\n",
      "vostok ru\n",
      "bengkulu id\n",
      "pochutla mx\n",
      "lebu cl\n",
      "lagos pt\n",
      "luoyang cn\n",
      "tiksi ru\n",
      "torbay ca\n",
      "atuona pf\n",
      "cape town za\n",
      "felidhoo mv\n",
      "hithadhoo mv\n",
      "puerto ayora ec\n",
      "korla cn\n",
      "chuy uy\n",
      "saskylakh ru\n",
      "sitka us\n",
      "taolanaro mg\n",
      "kapaa us\n",
      "jamestown sh\n",
      "mankovo-kalitvenskoye ru\n",
      "atambua id\n",
      "saint george us\n",
      "georgetown sh\n",
      "strezhevoy ru\n",
      "oranjemund na\n",
      "varaklani lv\n",
      "vaini to\n",
      "hasaki jp\n",
      "sobolevo ru\n",
      "wanaka nz\n",
      "tondano id\n",
      "cape town za\n",
      "mataura pf\n",
      "albany au\n",
      "busselton au\n",
      "upernavik gl\n",
      "rikitea pf\n",
      "biryusinsk ru\n",
      "komsomolskiy ru\n",
      "hajnowka pl\n",
      "talnakh ru\n",
      "busselton au\n",
      "vaini to\n",
      "warren us\n",
      "mataura pf\n",
      "presidencia roque saenz pena ar\n",
      "hilo us\n",
      "isangel vu\n",
      "kaitangata nz\n",
      "atuona pf\n",
      "lagoa pt\n",
      "qaanaaq gl\n",
      "akdepe tm\n",
      "puerto escondido mx\n",
      "dikson ru\n",
      "birin dz\n",
      "new norfolk au\n",
      "hobart au\n",
      "aksu cn\n",
      "kampot kh\n",
      "flinders au\n",
      "east london za\n",
      "cape town za\n",
      "tasiilaq gl\n",
      "hilo us\n",
      "girau do ponciano br\n",
      "torbay ca\n",
      "port alfred za\n",
      "ushuaia ar\n",
      "krosno odrzanskie pl\n",
      "pahrump us\n",
      "sept-iles ca\n",
      "thompson ca\n",
      "clyde nz\n",
      "saleaula ws\n",
      "atuona pf\n",
      "rafaela ar\n",
      "vaini to\n",
      "atuona pf\n",
      "busselton au\n",
      "naryan-mar ru\n",
      "mataura pf\n",
      "mataura pf\n",
      "shache cn\n",
      "saskylakh ru\n",
      "ntungamo ug\n",
      "taolanaro mg\n",
      "bubaque gw\n",
      "puerto ayora ec\n",
      "ushuaia ar\n",
      "port alfred za\n",
      "georgetown sh\n",
      "mudanjiang cn\n",
      "fortuna us\n",
      "hithadhoo mv\n",
      "busselton au\n",
      "rocha uy\n",
      "port elizabeth za\n",
      "rikitea pf\n",
      "albany au\n",
      "punta arenas cl\n",
      "pevek ru\n",
      "todos santos mx\n",
      "tautira pf\n",
      "gladstone au\n",
      "bethel us\n",
      "rikitea pf\n",
      "bintulu my\n",
      "camacha pt\n",
      "husavik is\n",
      "zavitinsk ru\n",
      "bawku gh\n",
      "ende id\n",
      "ushuaia ar\n",
      "vaitupu wf\n",
      "canutama br\n",
      "prince rupert ca\n",
      "muromtsevo ru\n",
      "kodiak us\n",
      "kapaa us\n",
      "airai pw\n",
      "qaanaaq gl\n",
      "yellowknife ca\n",
      "verkhneyarkeyevo ru\n",
      "marcona pe\n",
      "punta arenas cl\n",
      "port alfred za\n",
      "atuona pf\n",
      "atuona pf\n",
      "butaritari ki\n",
      "rikitea pf\n",
      "huangmei cn\n",
      "tumannyy ru\n",
      "amderma ru\n",
      "cape town za\n",
      "rikitea pf\n",
      "ushuaia ar\n",
      "saskylakh ru\n",
      "carnarvon au\n",
      "tuktoyaktuk ca\n",
      "lianzhou cn\n",
      "mayumba ga\n",
      "saint-philippe re\n",
      "sabang id\n",
      "narsaq gl\n",
      "strelka ru\n",
      "canyon us\n",
      "mataura pf\n",
      "vaini to\n",
      "aasiaat gl\n",
      "anadyr ru\n",
      "taolanaro mg\n",
      "albany au\n",
      "tasiilaq gl\n",
      "shakawe bw\n",
      "martinopolis br\n",
      "hermanus za\n",
      "castro cl\n",
      "longlac ca\n",
      "mataura pf\n",
      "russell nz\n",
      "porto novo cv\n",
      "baldwin us\n",
      "rikitea pf\n",
      "viedma ar\n",
      "nizhneyansk ru\n",
      "pevek ru\n",
      "sangar ru\n",
      "midland us\n",
      "macamic ca\n",
      "ambon id\n",
      "agirish ru\n",
      "cape town za\n",
      "port alfred za\n",
      "dunedin nz\n",
      "vardo no\n",
      "albany au\n",
      "richards bay za\n",
      "cabo san lucas mx\n",
      "kysyl-syr ru\n",
      "ushuaia ar\n",
      "rikitea pf\n",
      "chuy uy\n",
      "hithadhoo mv\n",
      "hermanus za\n",
      "namibe ao\n",
      "ulaanbaatar mn\n",
      "zyryanka ru\n",
      "jinchang cn\n",
      "albany au\n",
      "pershotravneve ua\n",
      "busselton au\n",
      "punta arenas cl\n",
      "culpeper us\n",
      "illoqqortoormiut gl\n",
      "cape town za\n",
      "hobart au\n",
      "bambous virieux mu\n",
      "ternate id\n",
      "barentsburg sj\n",
      "qaanaaq gl\n",
      "salinopolis br\n",
      "rio gallegos ar\n",
      "ancud cl\n",
      "namibe ao\n",
      "kapaa us\n",
      "andros town bs\n",
      "mar del plata ar\n",
      "nizhneyansk ru\n",
      "la ronge ca\n",
      "lebu cl\n",
      "mogadishu so\n",
      "colchester ca\n",
      "busselton au\n",
      "kaitangata nz\n",
      "ulladulla au\n",
      "dunedin nz\n",
      "paragominas br\n",
      "taolanaro mg\n",
      "novodzherelievskaya ru\n",
      "albany au\n",
      "vangaindrano mg\n",
      "puerto ayora ec\n",
      "bredasdorp za\n",
      "cidreira br\n",
      "hue vn\n",
      "cape town za\n",
      "vaini to\n",
      "barrow us\n",
      "barrow us\n",
      "bredasdorp za\n",
      "namatanai pg\n",
      "richard toll sn\n",
      "nokaneng bw\n",
      "arraial do cabo br\n",
      "grand river south east mu\n",
      "albany au\n",
      "faanui pf\n",
      "port elizabeth za\n",
      "butaritari ki\n",
      "qaanaaq gl\n",
      "rikitea pf\n",
      "jamestown sh\n",
      "ust-kuyga ru\n",
      "yellowknife ca\n",
      "rikitea pf\n",
      "mitu co\n",
      "avarua ck\n",
      "tsihombe mg\n",
      "trincomalee lk\n",
      "los llanos de aridane es\n",
      "auki sb\n",
      "bluefield us\n",
      "hobart au\n",
      "tsihombe mg\n",
      "bilibino ru\n",
      "flinders au\n",
      "tumannyy ru\n",
      "san patricio mx\n",
      "punta arenas cl\n",
      "ribeira grande pt\n",
      "mataura pf\n",
      "lavrentiya ru\n",
      "saint-philippe re\n",
      "cape town za\n",
      "los llanos de aridane es\n",
      "new norfolk au\n",
      "rikitea pf\n",
      "hobart au\n",
      "tiksi ru\n",
      "punta arenas cl\n",
      "kwakoa tz\n",
      "asfi ma\n",
      "barrow us\n",
      "tsabong bw\n",
      "hobart au\n",
      "jvari ge\n",
      "taolanaro mg\n",
      "rikitea pf\n",
      "adrar dz\n",
      "carnarvon au\n",
      "port hawkesbury ca\n",
      "katsuura jp\n",
      "jamestown sh\n",
      "ushuaia ar\n",
      "nanortalik gl\n",
      "busselton au\n",
      "ponta do sol cv\n",
      "port alfred za\n",
      "karratha au\n",
      "hermanus za\n",
      "vaitupu wf\n",
      "avarua ck\n",
      "jamestown sh\n",
      "avarua ck\n",
      "chokurdakh ru\n",
      "yellowknife ca\n",
      "udarnyy ru\n",
      "cherskiy ru\n",
      "cagayan de tawi-tawi ph\n",
      "laguna br\n",
      "rikitea pf\n",
      "avarua ck\n",
      "villa carlos paz ar\n",
      "attawapiskat ca\n",
      "bambous virieux mu\n",
      "jijiga et\n",
      "norman wells ca\n",
      "tuktoyaktuk ca\n",
      "taburi ph\n",
      "isangel vu\n",
      "norman wells ca\n",
      "sao joao da barra br\n",
      "salalah om\n",
      "san rafael ph\n",
      "pirovskoye ru\n",
      "sept-iles ca\n",
      "rikitea pf\n",
      "yellowknife ca\n",
      "hermanus za\n",
      "ushuaia ar\n",
      "mar del plata ar\n",
      "chumikan ru\n",
      "bluff nz\n",
      "busselton au\n",
      "saint-philippe re\n",
      "north bend us\n",
      "butaritari ki\n",
      "georgetown sh\n",
      "butaritari ki\n",
      "kaiyuan cn\n",
      "avarua ck\n",
      "myitkyina mm\n",
      "mahibadhoo mv\n",
      "novoanninskiy ru\n",
      "east london za\n",
      "rikitea pf\n",
      "busselton au\n",
      "ziro in\n",
      "busselton au\n",
      "kapaa us\n",
      "dikson ru\n",
      "mahebourg"
     ]
    }
   ],
   "source": [
    "# Use the tuple() function to display the latitude and longitude combinations.\n",
    "for coordinate in coordinates:\n",
    "    print(citipy.nearest_city(coordinate[0], coordinate[1]).city_name,\n",
    "          citipy.nearest_city(coordinate[0], coordinate[1]).country_code)"
   ]
  },
  {
   "cell_type": "code",
   "execution_count": null,
   "id": "eff9dbe2",
   "metadata": {},
   "outputs": [],
   "source": [
    "# Create a list for holding the cities.\n",
    "cities = []\n",
    "# Identify the nearest city for each latitude and longitude combination.\n",
    "for coordinate in coordinates:\n",
    "    city = citipy.nearest_city(coordinate[0], coordinate[1]).city_name\n",
    "\n",
    "    # If the city is unique, then we will add it to the cities list.\n",
    "    if city not in cities:\n",
    "        cities.append(city)\n",
    "# Print the city count to confirm sufficient count.\n",
    "len(cities)"
   ]
  },
  {
   "cell_type": "code",
   "execution_count": 61,
   "id": "c5041b10",
   "metadata": {},
   "outputs": [
    {
     "data": {
      "text/plain": [
       "'07/14/21'"
      ]
     },
     "execution_count": 61,
     "metadata": {},
     "output_type": "execute_result"
    }
   ],
   "source": [
    "# Import the time module.\n",
    "import time\n",
    "# Get today's date in seconds.\n",
    "today = time.strftime(\"%x\")\n",
    "today"
   ]
  },
  {
   "cell_type": "code",
   "execution_count": null,
   "id": "aa9abdbe",
   "metadata": {},
   "outputs": [],
   "source": []
  },
  {
   "cell_type": "code",
   "execution_count": null,
   "id": "82fce200",
   "metadata": {},
   "outputs": [],
   "source": []
  },
  {
   "cell_type": "code",
   "execution_count": null,
   "id": "6d164e3a",
   "metadata": {},
   "outputs": [],
   "source": []
  },
  {
   "cell_type": "code",
   "execution_count": null,
   "id": "2199a931",
   "metadata": {},
   "outputs": [],
   "source": []
  },
  {
   "cell_type": "code",
   "execution_count": null,
   "id": "d0fff8b8",
   "metadata": {},
   "outputs": [],
   "source": []
  }
 ],
 "metadata": {
  "kernelspec": {
   "display_name": "PythonData",
   "language": "python",
   "name": "pythondata"
  },
  "language_info": {
   "codemirror_mode": {
    "name": "ipython",
    "version": 3
   },
   "file_extension": ".py",
   "mimetype": "text/x-python",
   "name": "python",
   "nbconvert_exporter": "python",
   "pygments_lexer": "ipython3",
   "version": "3.7.10"
  }
 },
 "nbformat": 4,
 "nbformat_minor": 5
}
