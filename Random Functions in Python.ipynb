{
 "cells": [
  {
   "cell_type": "code",
   "execution_count": 42,
   "id": "7769ee3d",
   "metadata": {},
   "outputs": [],
   "source": [
    "# Import the Random Module\n",
    "import random\n",
    "\n",
    "# Import the NumPy Module\n",
    "import numpy as np"
   ]
  },
  {
   "cell_type": "code",
   "execution_count": 43,
   "id": "9111e484",
   "metadata": {},
   "outputs": [
    {
     "data": {
      "text/plain": [
       "0.8555499038820834"
      ]
     },
     "execution_count": 43,
     "metadata": {},
     "output_type": "execute_result"
    }
   ],
   "source": [
    "random.random()"
   ]
  },
  {
   "cell_type": "code",
   "execution_count": 44,
   "id": "b598f514",
   "metadata": {},
   "outputs": [
    {
     "data": {
      "text/plain": [
       "15"
      ]
     },
     "execution_count": 44,
     "metadata": {},
     "output_type": "execute_result"
    }
   ],
   "source": [
    "random.randint(1,20)"
   ]
  },
  {
   "cell_type": "code",
   "execution_count": 45,
   "id": "e86b3d4a",
   "metadata": {},
   "outputs": [
    {
     "data": {
      "text/plain": [
       "-5"
      ]
     },
     "execution_count": 45,
     "metadata": {},
     "output_type": "execute_result"
    }
   ],
   "source": [
    "random.randrange(-5,5,1)"
   ]
  },
  {
   "cell_type": "code",
   "execution_count": 46,
   "id": "a4cd50d0",
   "metadata": {},
   "outputs": [
    {
     "data": {
      "text/plain": [
       "-9.515164114945701"
      ]
     },
     "execution_count": 46,
     "metadata": {},
     "output_type": "execute_result"
    }
   ],
   "source": [
    "random.uniform(-10,10)"
   ]
  },
  {
   "cell_type": "code",
   "execution_count": 47,
   "id": "49a3a5fa",
   "metadata": {},
   "outputs": [
    {
     "data": {
      "text/plain": [
       "63.16646357816831"
      ]
     },
     "execution_count": 47,
     "metadata": {},
     "output_type": "execute_result"
    }
   ],
   "source": [
    "random_number = random.randint(-90,89) + random.random()\n",
    "random_number\n"
   ]
  },
  {
   "cell_type": "code",
   "execution_count": 48,
   "id": "41fcc131",
   "metadata": {},
   "outputs": [
    {
     "data": {
      "text/plain": [
       "[0.08648585985382617,\n",
       " -11.118007764863801,\n",
       " 74.5143486315137,\n",
       " 53.651855400174675,\n",
       " 81.64216065970108,\n",
       " 70.46552834178071,\n",
       " 85.3141711560051,\n",
       " -68.37723656224861,\n",
       " 52.03369777253392,\n",
       " 51.06777565962242]"
      ]
     },
     "execution_count": 48,
     "metadata": {},
     "output_type": "execute_result"
    }
   ],
   "source": [
    "x = 1\n",
    "latitudes = []\n",
    "while x < 11:\n",
    "    random_lat = random.randint(-90, 89) + random.random()\n",
    "    latitudes.append(random_lat)\n",
    "    x += 1\n",
    "latitudes"
   ]
  },
  {
   "cell_type": "code",
   "execution_count": 49,
   "id": "c0a11b36",
   "metadata": {},
   "outputs": [
    {
     "data": {
      "text/plain": [
       "35"
      ]
     },
     "execution_count": 49,
     "metadata": {},
     "output_type": "execute_result"
    }
   ],
   "source": [
    "random.randrange(-90,90,step=1)"
   ]
  },
  {
   "cell_type": "code",
   "execution_count": 50,
   "id": "a4e52b57",
   "metadata": {},
   "outputs": [
    {
     "data": {
      "text/plain": [
       "-15"
      ]
     },
     "execution_count": 50,
     "metadata": {},
     "output_type": "execute_result"
    }
   ],
   "source": [
    "random.randrange(-90,90,step=3)"
   ]
  },
  {
   "cell_type": "code",
   "execution_count": 51,
   "id": "bef4ed47",
   "metadata": {},
   "outputs": [
    {
     "data": {
      "text/plain": [
       "62.966185826926164"
      ]
     },
     "execution_count": 51,
     "metadata": {},
     "output_type": "execute_result"
    }
   ],
   "source": [
    "random.uniform(-90,90)"
   ]
  },
  {
   "cell_type": "code",
   "execution_count": 54,
   "id": "925da2fd",
   "metadata": {},
   "outputs": [
    {
     "data": {
      "text/plain": [
       "array([ 31.13034915,   5.34824759,  69.18900942,  18.42768889,\n",
       "        52.53456726, -52.49974725, -18.85557841, -76.31737593,\n",
       "       -10.76135221,  -3.61965185,  68.59965576,  83.45335839,\n",
       "        35.48849143,  50.88518538, -51.1876768 ,  58.577033  ,\n",
       "        21.26407064,  85.61844016, -20.19969535,  70.00425802,\n",
       "        80.57756484, -62.63977092, -66.47192507, -40.33599068,\n",
       "        52.51598126,  24.26528476,  26.39589619,  -1.8543563 ,\n",
       "       -86.95587973, -60.06307455,  41.20368877,   8.8411962 ,\n",
       "       -30.85896453,  63.35516787, -36.86070583,   4.8178283 ,\n",
       "       -34.84263736, -45.70101386, -23.08035797,  69.14076395,\n",
       "       -50.06416006, -72.14773709,  -0.12835438,   3.36284195,\n",
       "       -11.12154264,  47.90155008, -40.90350253, -62.64097825,\n",
       "        79.87159452,  56.4567969 ])"
      ]
     },
     "execution_count": 54,
     "metadata": {},
     "output_type": "execute_result"
    }
   ],
   "source": [
    "np.random.uniform(low=-90,high=90,size=50)"
   ]
  },
  {
   "cell_type": "code",
   "execution_count": 56,
   "id": "f35b489b",
   "metadata": {},
   "outputs": [],
   "source": [
    "# Import timeit. to test how long it takes a piece of code to function\n",
    "import timeit"
   ]
  },
  {
   "cell_type": "code",
   "execution_count": 64,
   "id": "7c6f8a74",
   "metadata": {},
   "outputs": [
    {
     "name": "stdout",
     "output_type": "stream",
     "text": [
      "22.3 µs ± 182 ns per loop (mean ± std. dev. of 7 runs, 10000 loops each)\n"
     ]
    }
   ],
   "source": [
    "%timeit np.random.uniform(high=-90, low=90, size=1500)"
   ]
  },
  {
   "cell_type": "code",
   "execution_count": 65,
   "id": "50cd48c0",
   "metadata": {},
   "outputs": [
    {
     "name": "stdout",
     "output_type": "stream",
     "text": [
      "2.74 ms ± 99.6 µs per loop (mean ± std. dev. of 7 runs, 100 loops each)\n"
     ]
    }
   ],
   "source": [
    "def latitudes(size):\n",
    "    latitudes = []\n",
    "    x = 0\n",
    "    while x < (size):\n",
    "        random_lat = random.randint(-90, 90) + random.random()\n",
    "        latitudes.append(random_lat)\n",
    "        x += 1\n",
    "    return latitudes\n",
    "# Call the function with 1500.\n",
    "%timeit latitudes(1500)"
   ]
  },
  {
   "cell_type": "code",
   "execution_count": null,
   "id": "92bebaf7",
   "metadata": {},
   "outputs": [],
   "source": []
  }
 ],
 "metadata": {
  "kernelspec": {
   "display_name": "PythonData",
   "language": "python",
   "name": "pythondata"
  },
  "language_info": {
   "codemirror_mode": {
    "name": "ipython",
    "version": 3
   },
   "file_extension": ".py",
   "mimetype": "text/x-python",
   "name": "python",
   "nbconvert_exporter": "python",
   "pygments_lexer": "ipython3",
   "version": "3.7.10"
  }
 },
 "nbformat": 4,
 "nbformat_minor": 5
}
